{
 "cells": [
  {
   "cell_type": "code",
   "execution_count": 1,
   "metadata": {},
   "outputs": [
    {
     "name": "stderr",
     "output_type": "stream",
     "text": [
      "23/11/14 11:15:00 WARN Utils: Your hostname, ubuntu-ThinkPad-T480 resolves to a loopback address: 127.0.1.1; using 192.168.1.111 instead (on interface wlp3s0)\n",
      "23/11/14 11:15:00 WARN Utils: Set SPARK_LOCAL_IP if you need to bind to another address\n"
     ]
    },
    {
     "name": "stdout",
     "output_type": "stream",
     "text": [
      ":: loading settings :: url = jar:file:/opt/spark/jars/ivy-2.5.1.jar!/org/apache/ivy/core/settings/ivysettings.xml\n"
     ]
    },
    {
     "name": "stderr",
     "output_type": "stream",
     "text": [
      "Ivy Default Cache set to: /home/ubuntu/.ivy2/cache\n",
      "The jars for the packages stored in: /home/ubuntu/.ivy2/jars\n",
      "io.delta#delta-core_2.12 added as a dependency\n",
      ":: resolving dependencies :: org.apache.spark#spark-submit-parent-dfb9489c-740e-4ef0-8f19-baeed8024137;1.0\n",
      "\tconfs: [default]\n",
      "\tfound io.delta#delta-core_2.12;2.4.0 in central\n",
      "\tfound io.delta#delta-storage;2.4.0 in central\n",
      "\tfound org.antlr#antlr4-runtime;4.9.3 in central\n",
      ":: resolution report :: resolve 203ms :: artifacts dl 13ms\n",
      "\t:: modules in use:\n",
      "\tio.delta#delta-core_2.12;2.4.0 from central in [default]\n",
      "\tio.delta#delta-storage;2.4.0 from central in [default]\n",
      "\torg.antlr#antlr4-runtime;4.9.3 from central in [default]\n",
      "\t---------------------------------------------------------------------\n",
      "\t|                  |            modules            ||   artifacts   |\n",
      "\t|       conf       | number| search|dwnlded|evicted|| number|dwnlded|\n",
      "\t---------------------------------------------------------------------\n",
      "\t|      default     |   3   |   0   |   0   |   0   ||   3   |   0   |\n",
      "\t---------------------------------------------------------------------\n",
      ":: retrieving :: org.apache.spark#spark-submit-parent-dfb9489c-740e-4ef0-8f19-baeed8024137\n",
      "\tconfs: [default]\n",
      "\t0 artifacts copied, 3 already retrieved (0kB/8ms)\n",
      "23/11/14 11:15:01 WARN NativeCodeLoader: Unable to load native-hadoop library for your platform... using builtin-java classes where applicable\n",
      "Setting default log level to \"WARN\".\n",
      "To adjust logging level use sc.setLogLevel(newLevel). For SparkR, use setLogLevel(newLevel).\n"
     ]
    }
   ],
   "source": [
    "from pyspark.sql import SparkSession\n",
    "\n",
    "# Initialize SparkSession\n",
    "spark = SparkSession.builder \\\n",
    "    .master(\"local[*]\") \\\n",
    "    .appName('Create Delta Table') \\\n",
    "    .config(\"spark.jars\", \"/home/ubuntu/Downloads/postgresql-42.6.0.jar\") \\\n",
    "    .config(\"spark.jars.packages\", \"io.delta:delta-core_2.12:2.4.0\") \\\n",
    "    .config(\"spark.sql.extensions\", \"io.delta.sql.DeltaSparkSessionExtension\") \\\n",
    "    .config(\"spark.sql.catalog.spark_catalog\", \"org.apache.spark.sql.delta.catalog.DeltaCatalog\") \\\n",
    "    .getOrCreate()\n",
    "\n"
   ]
  },
  {
   "cell_type": "code",
   "execution_count": null,
   "metadata": {},
   "outputs": [],
   "source": [
    "\n",
    "from pyspark.sql.types import StructType, StructField, StringType, DateType, BooleanType\n",
    "\n",
    "# Define the schema for the data\n",
    "schema = StructType([\n",
    "    StructField(\"first_name\", StringType(), True),\n",
    "    StructField(\"last_name\", StringType(), True),\n",
    "    StructField(\"date_of_birth\", DateType(), True),\n",
    "    StructField(\"gender\", StringType(), True),\n",
    "    StructField(\"address\", StringType(), True),\n",
    "    StructField(\"phone_number\", StringType(), True),\n",
    "    StructField(\"email\", StringType(), True),\n",
    "    StructField(\"diagnosis\", StringType(), True),\n",
    "    StructField(\"admission_date\", DateType(), True),\n",
    "    StructField(\"discharged\", BooleanType(), True)\n",
    "])\n",
    "patient_df = spark.read.format(\"csv\").option(\"delimeter\", \",\").option(\"header\", True).schema(schema).load(\"data.csv\")"
   ]
  },
  {
   "cell_type": "code",
   "execution_count": null,
   "metadata": {},
   "outputs": [],
   "source": [
    "patient_df.repartition(1000).write.mode(saveMode=\"overwrite\").format(\"delta\").save(\"delta/patients\")\n",
    "\n"
   ]
  },
  {
   "cell_type": "code",
   "execution_count": 2,
   "metadata": {},
   "outputs": [
    {
     "name": "stderr",
     "output_type": "stream",
     "text": [
      "/home/ubuntu/.local/lib/python3.8/site-packages/pyspark/sql/context.py:112: FutureWarning: Deprecated in 3.0.0. Use SparkSession.builder.getOrCreate() instead.\n",
      "  warnings.warn(\n"
     ]
    }
   ],
   "source": [
    "delta_patient = spark.read.format(\"delta\").load(\"delta/patients\")\n",
    "from pyspark.sql import SQLContext\n",
    "\n",
    "sqlContext = SQLContext(spark)\n",
    "sqlContext.registerDataFrameAsTable(delta_patient, \"patients\")"
   ]
  },
  {
   "cell_type": "code",
   "execution_count": 3,
   "metadata": {},
   "outputs": [
    {
     "name": "stdout",
     "output_type": "stream",
     "text": [
      "0.19359064102172852\n"
     ]
    }
   ],
   "source": [
    "import time \n",
    "\n",
    "s = time.time()\n",
    "sqlContext.sql(\"SELECT * FROM patients WHERE admission_date REGEXP '01-21'\")\n",
    "print(time.time() - s)"
   ]
  },
  {
   "cell_type": "code",
   "execution_count": 4,
   "metadata": {},
   "outputs": [
    {
     "name": "stdout",
     "output_type": "stream",
     "text": [
      "0.05654597282409668\n"
     ]
    }
   ],
   "source": [
    "s = time.time()\n",
    "sqlContext.sql(\"SELECT * FROM patients WHERE admission_date REGEXP '2020-01-21' and diagnosis='Fever' and gender='Male' and first_name='Steven'\")\n",
    "print(time.time() - s)"
   ]
  },
  {
   "cell_type": "code",
   "execution_count": 5,
   "metadata": {},
   "outputs": [
    {
     "name": "stdout",
     "output_type": "stream",
     "text": [
      "0.029584884643554688\n"
     ]
    }
   ],
   "source": [
    "s = time.time()\n",
    "sqlContext.sql(\"SELECT * FROM patients WHERE admission_date REGEXP '01-21' and diagnosis='Fever' and gender='Male'\")\n",
    "print(time.time() - s)"
   ]
  },
  {
   "cell_type": "code",
   "execution_count": 6,
   "metadata": {},
   "outputs": [
    {
     "name": "stdout",
     "output_type": "stream",
     "text": [
      "0.09287500381469727\n"
     ]
    }
   ],
   "source": [
    "s = time.time()\n",
    "sqlContext.sql(\"SELECT diagnosis, COUNT(diagnosis) as diagnosis_count FROM patients GROUP BY diagnosis\")\n",
    "print(time.time() - s)"
   ]
  },
  {
   "cell_type": "code",
   "execution_count": null,
   "metadata": {},
   "outputs": [],
   "source": [
    "from pyspark.sql.types import FloatType\n",
    "from faker import Faker\n",
    "\n",
    "fake = Faker()\n",
    "\n",
    "practitioner_schema = StructType([\n",
    "    StructField(\"practitioner_id\", StringType(), True),\n",
    "    StructField(\"name\", StringType(), True),\n",
    "    StructField(\"specialty\", StringType(), True),\n",
    "    StructField(\"experience_years\", FloatType(), True),\n",
    "    StructField(\"location\", StringType(), True),\n",
    "    StructField(\"email\", StringType(), True)\n",
    "])\n",
    "\n",
    "# Generate Fake Practitioners\n",
    "num_practitioners = 10000\n",
    "\n",
    "practitioners = []\n",
    "for id,_ in enumerate(range(num_practitioners)):\n",
    "    practitioner_id = \"PRAC\" + str(num_practitioners + id)\n",
    "    name = fake.name()\n",
    "    specialty = fake.random.choice([\"Cardiologist\", \"Dermatologist\", \"Pediatrician\", \"Orthopedic Surgeon\", \"Psychiatrist\"])\n",
    "    experience_years = float(fake.random.randrange(1,20))\n",
    "    address = fake.address().replace('\\n', '').replace(',', '')\n",
    "    email = fake.email()\n",
    "\n",
    "    practitioners.append((practitioner_id, name, specialty, experience_years, address, email))\n",
    "\n",
    "# Create DataFrame from practitioners\n",
    "practitioner_df = spark.createDataFrame(practitioners, schema=practitioner_schema)\n",
    "practitioner_df.repartition(100).write.mode(saveMode=\"overwrite\").format(\"delta\").save(\"delta/practitioners\")"
   ]
  },
  {
   "cell_type": "code",
   "execution_count": 7,
   "metadata": {},
   "outputs": [],
   "source": [
    "\n",
    "delta_practitioner = spark.read.format(\"delta\").load(\"delta/practitioners\")\n",
    "from pyspark.sql import SQLContext\n",
    "\n",
    "sqlContext = SQLContext(spark)\n",
    "sqlContext.registerDataFrameAsTable(delta_practitioner, \"practitioners\")"
   ]
  },
  {
   "cell_type": "code",
   "execution_count": null,
   "metadata": {},
   "outputs": [],
   "source": [
    "import random\n",
    "from pyspark.sql.functions import udf\n",
    "\n",
    "random_id_gen = udf(lambda: \"PRAC\"+str(random.randint(10000,11111)))\n",
    "patient_df = patient_df.withColumn(\"practitioner\", random_id_gen())\n",
    "patient_df.repartition(1000).write.mode(saveMode=\"overwrite\").format(\"delta\").option(\"overwriteSchema\", \"true\").save(\"delta/patients\")\n"
   ]
  },
  {
   "cell_type": "code",
   "execution_count": null,
   "metadata": {},
   "outputs": [],
   "source": [
    "delta_patient = spark.read.format(\"delta\").load(\"delta/patients\")\n",
    "from pyspark.sql import SQLContext\n",
    "\n",
    "sqlContext = SQLContext(spark)\n",
    "sqlContext.registerDataFrameAsTable(delta_patient, \"patients\")"
   ]
  },
  {
   "cell_type": "code",
   "execution_count": 8,
   "metadata": {},
   "outputs": [
    {
     "name": "stdout",
     "output_type": "stream",
     "text": [
      "0.04899191856384277\n"
     ]
    }
   ],
   "source": [
    "s = time.time()\n",
    "spark.sql(\"SELECT * FROM patients INNER JOIN practitioners ON practitioners.practitioner_id=patients.practitioner\")\n",
    "print(time.time() - s)"
   ]
  },
  {
   "cell_type": "code",
   "execution_count": 9,
   "metadata": {},
   "outputs": [
    {
     "name": "stdout",
     "output_type": "stream",
     "text": [
      "0.014677762985229492\n"
     ]
    }
   ],
   "source": [
    "s = time.time()\n",
    "sqlContext.sql(\"SELECT * FROM practitioners;\")\n",
    "print(time.time() - s)"
   ]
  },
  {
   "cell_type": "code",
   "execution_count": 10,
   "metadata": {},
   "outputs": [
    {
     "name": "stdout",
     "output_type": "stream",
     "text": [
      "0.016487836837768555\n"
     ]
    }
   ],
   "source": [
    "s = time.time()\n",
    "sqlContext.sql(\"SELECT * FROM patients WHERE diagnosis = 'Headache';\")\n",
    "print(time.time() - s)"
   ]
  },
  {
   "cell_type": "code",
   "execution_count": 11,
   "metadata": {},
   "outputs": [
    {
     "name": "stdout",
     "output_type": "stream",
     "text": [
      "0.0245363712310791\n"
     ]
    }
   ],
   "source": [
    "s = time.time()\n",
    "sqlContext.sql(\"SELECT * FROM practitioners WHERE experience_years > 10;\")\n",
    "print(time.time() - s)"
   ]
  },
  {
   "cell_type": "code",
   "execution_count": 12,
   "metadata": {},
   "outputs": [
    {
     "name": "stdout",
     "output_type": "stream",
     "text": [
      "0.020940065383911133\n"
     ]
    }
   ],
   "source": [
    "s = time.time()\n",
    "sqlContext.sql(\"SELECT gender, COUNT(*) FROM patients GROUP BY gender;\")\n",
    "print(time.time() - s)"
   ]
  },
  {
   "cell_type": "code",
   "execution_count": 13,
   "metadata": {},
   "outputs": [
    {
     "name": "stdout",
     "output_type": "stream",
     "text": [
      "0.01909327507019043\n"
     ]
    }
   ],
   "source": [
    "s = time.time()\n",
    "sqlContext.sql(\"SELECT specialty, AVG(experience_years) FROM practitioners GROUP BY specialty;\")\n",
    "print(time.time() - s)"
   ]
  },
  {
   "cell_type": "code",
   "execution_count": 14,
   "metadata": {},
   "outputs": [
    {
     "name": "stdout",
     "output_type": "stream",
     "text": [
      "0.02260136604309082\n"
     ]
    }
   ],
   "source": [
    "s = time.time()\n",
    "sqlContext.sql(\"SELECT * FROM patients WHERE admission_date < '2023-01-01';\")\n",
    "print(time.time() - s)"
   ]
  },
  {
   "cell_type": "code",
   "execution_count": 15,
   "metadata": {},
   "outputs": [
    {
     "name": "stdout",
     "output_type": "stream",
     "text": [
      "0.034147024154663086\n"
     ]
    }
   ],
   "source": [
    "s = time.time()\n",
    "sqlContext.sql(\"SELECT * FROM practitioners WHERE location LIKE '%City%';\")\n",
    "print(time.time() - s)"
   ]
  },
  {
   "cell_type": "code",
   "execution_count": 16,
   "metadata": {},
   "outputs": [
    {
     "name": "stdout",
     "output_type": "stream",
     "text": [
      "0.014020681381225586\n"
     ]
    }
   ],
   "source": [
    "s = time.time()\n",
    "sqlContext.sql(\"SELECT diagnosis, COUNT(*) FROM patients GROUP BY diagnosis;\")\n",
    "print(time.time() - s)"
   ]
  },
  {
   "cell_type": "code",
   "execution_count": 19,
   "metadata": {},
   "outputs": [
    {
     "name": "stdout",
     "output_type": "stream",
     "text": [
      "0.026125431060791016\n"
     ]
    }
   ],
   "source": [
    "s = time.time()\n",
    "sqlContext.sql(\"SELECT * FROM patients as p JOIN practitioners as pr ON p.address = pr.location;\")\n",
    "print(time.time() - s)"
   ]
  },
  {
   "cell_type": "code",
   "execution_count": 20,
   "metadata": {},
   "outputs": [
    {
     "name": "stdout",
     "output_type": "stream",
     "text": [
      "0.03163766860961914\n"
     ]
    }
   ],
   "source": [
    "s = time.time()\n",
    "sqlContext.sql(\"SELECT * FROM patients WHERE MONTH(admission_date) = 5;\")\n",
    "print(time.time() - s)"
   ]
  },
  {
   "cell_type": "code",
   "execution_count": 21,
   "metadata": {},
   "outputs": [
    {
     "name": "stdout",
     "output_type": "stream",
     "text": [
      "0.017019271850585938\n"
     ]
    }
   ],
   "source": [
    "s = time.time()\n",
    "sqlContext.sql(\"SELECT * FROM practitioners WHERE experience_years BETWEEN 5 AND 15;\")\n",
    "print(time.time() - s)"
   ]
  },
  {
   "cell_type": "code",
   "execution_count": 22,
   "metadata": {},
   "outputs": [
    {
     "name": "stdout",
     "output_type": "stream",
     "text": [
      "0.019042491912841797\n"
     ]
    }
   ],
   "source": [
    "s = time.time()\n",
    "sqlContext.sql(\"SELECT * FROM patients as p JOIN practitioners as pr ON p.diagnosis = pr.specialty;\")\n",
    "print(time.time() - s)"
   ]
  },
  {
   "cell_type": "code",
   "execution_count": 23,
   "metadata": {},
   "outputs": [
    {
     "name": "stdout",
     "output_type": "stream",
     "text": [
      "0.030568838119506836\n"
     ]
    }
   ],
   "source": [
    "s = time.time()\n",
    "sqlContext.sql(\"SELECT YEAR(admission_date) AS year, COUNT(*) FROM patients GROUP BY year;\")\n",
    "print(time.time() - s)"
   ]
  },
  {
   "cell_type": "code",
   "execution_count": 24,
   "metadata": {},
   "outputs": [
    {
     "name": "stdout",
     "output_type": "stream",
     "text": [
      "0.023092031478881836\n"
     ]
    }
   ],
   "source": [
    "s = time.time()\n",
    "sqlContext.sql(\"SELECT * FROM practitioners ORDER BY experience_years DESC LIMIT 1;\")\n",
    "print(time.time() - s)"
   ]
  },
  {
   "cell_type": "code",
   "execution_count": 25,
   "metadata": {},
   "outputs": [
    {
     "name": "stdout",
     "output_type": "stream",
     "text": [
      "0.017248868942260742\n"
     ]
    }
   ],
   "source": [
    "s = time.time()\n",
    "sqlContext.sql(\"SELECT * FROM patients WHERE discharged = false;\")\n",
    "print(time.time() - s)"
   ]
  },
  {
   "cell_type": "code",
   "execution_count": 26,
   "metadata": {},
   "outputs": [
    {
     "name": "stdout",
     "output_type": "stream",
     "text": [
      "0.012778282165527344\n"
     ]
    }
   ],
   "source": [
    "s = time.time()\n",
    "sqlContext.sql(\"SELECT * FROM practitioners WHERE email LIKE '%.com';\")\n",
    "print(time.time() - s)"
   ]
  },
  {
   "cell_type": "code",
   "execution_count": 28,
   "metadata": {},
   "outputs": [
    {
     "name": "stdout",
     "output_type": "stream",
     "text": [
      "0.015375614166259766\n"
     ]
    }
   ],
   "source": [
    "s = time.time()\n",
    "sqlContext.sql(\"SELECT * FROM patients WHERE practitioner = '123';\")\n",
    "print(time.time() - s)"
   ]
  },
  {
   "cell_type": "code",
   "execution_count": 29,
   "metadata": {},
   "outputs": [
    {
     "name": "stdout",
     "output_type": "stream",
     "text": [
      "0.015847444534301758\n"
     ]
    }
   ],
   "source": [
    "s = time.time()\n",
    "sqlContext.sql(\"SELECT * FROM practitioners WHERE specialty = 'Cardiologist' AND location = 'Hospital A';\")\n",
    "print(time.time() - s)"
   ]
  },
  {
   "cell_type": "code",
   "execution_count": 30,
   "metadata": {},
   "outputs": [
    {
     "name": "stdout",
     "output_type": "stream",
     "text": [
      "0.014188766479492188\n"
     ]
    }
   ],
   "source": [
    "s = time.time()\n",
    "sqlContext.sql(\"SELECT * FROM patients as p JOIN practitioners as pr ON p.gender = pr.name;\")\n",
    "print(time.time() - s)"
   ]
  },
  {
   "cell_type": "code",
   "execution_count": 31,
   "metadata": {},
   "outputs": [
    {
     "name": "stdout",
     "output_type": "stream",
     "text": [
      "0.018751859664916992\n"
     ]
    }
   ],
   "source": [
    "s = time.time()\n",
    "sqlContext.sql(\"SELECT * FROM patients INNER JOIN practitioners ON patients.practitioner = practitioners.practitioner_id;\")\n",
    "print(time.time() - s)"
   ]
  },
  {
   "cell_type": "code",
   "execution_count": 32,
   "metadata": {},
   "outputs": [
    {
     "name": "stdout",
     "output_type": "stream",
     "text": [
      "0.02447676658630371\n"
     ]
    }
   ],
   "source": [
    "s = time.time()\n",
    "sqlContext.sql(\"SELECT * FROM patients RIGHT JOIN practitioners ON patients.practitioner = practitioners.practitioner_id;\")\n",
    "print(time.time() - s)"
   ]
  },
  {
   "cell_type": "code",
   "execution_count": 33,
   "metadata": {},
   "outputs": [
    {
     "name": "stdout",
     "output_type": "stream",
     "text": [
      "0.015737295150756836\n"
     ]
    }
   ],
   "source": [
    "s = time.time()\n",
    "sqlContext.sql(\"SELECT * FROM patients FULL OUTER JOIN practitioners ON patients.practitioner = practitioners.practitioner_id;\")\n",
    "print(time.time() - s)"
   ]
  },
  {
   "cell_type": "code",
   "execution_count": 34,
   "metadata": {},
   "outputs": [
    {
     "name": "stdout",
     "output_type": "stream",
     "text": [
      "0.014001846313476562\n"
     ]
    }
   ],
   "source": [
    "s = time.time()\n",
    "sqlContext.sql(\"SELECT * FROM patients CROSS JOIN practitioners;\")\n",
    "print(time.time() - s)"
   ]
  },
  {
   "cell_type": "code",
   "execution_count": 36,
   "metadata": {},
   "outputs": [
    {
     "name": "stdout",
     "output_type": "stream",
     "text": [
      "0.026643037796020508\n"
     ]
    }
   ],
   "source": [
    "s = time.time()\n",
    "sqlContext.sql(\"SELECT * FROM patients as p1 INNER JOIN patients as p2 ON p1.practitioner = p2.practitioner AND p1.first_name != p2.first_name;\")\n",
    "print(time.time() - s)"
   ]
  }
 ],
 "metadata": {
  "kernelspec": {
   "display_name": "Python 3",
   "language": "python",
   "name": "python3"
  },
  "language_info": {
   "codemirror_mode": {
    "name": "ipython",
    "version": 3
   },
   "file_extension": ".py",
   "mimetype": "text/x-python",
   "name": "python",
   "nbconvert_exporter": "python",
   "pygments_lexer": "ipython3",
   "version": "3.8.10"
  }
 },
 "nbformat": 4,
 "nbformat_minor": 2
}
