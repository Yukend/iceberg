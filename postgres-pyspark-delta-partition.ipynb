{
 "cells": [
  {
   "cell_type": "code",
   "execution_count": 1,
   "metadata": {},
   "outputs": [
    {
     "name": "stderr",
     "output_type": "stream",
     "text": [
      "23/11/14 11:41:58 WARN Utils: Your hostname, ubuntu-ThinkPad-T480 resolves to a loopback address: 127.0.1.1; using 192.168.1.111 instead (on interface wlp3s0)\n",
      "23/11/14 11:41:58 WARN Utils: Set SPARK_LOCAL_IP if you need to bind to another address\n"
     ]
    },
    {
     "name": "stdout",
     "output_type": "stream",
     "text": [
      ":: loading settings :: url = jar:file:/opt/spark/jars/ivy-2.5.1.jar!/org/apache/ivy/core/settings/ivysettings.xml\n"
     ]
    },
    {
     "name": "stderr",
     "output_type": "stream",
     "text": [
      "Ivy Default Cache set to: /home/ubuntu/.ivy2/cache\n",
      "The jars for the packages stored in: /home/ubuntu/.ivy2/jars\n",
      "io.delta#delta-core_2.12 added as a dependency\n",
      ":: resolving dependencies :: org.apache.spark#spark-submit-parent-d0a7a168-9dda-4af4-9fe0-0dc6e9102fad;1.0\n",
      "\tconfs: [default]\n",
      "\tfound io.delta#delta-core_2.12;2.4.0 in central\n",
      "\tfound io.delta#delta-storage;2.4.0 in central\n",
      "\tfound org.antlr#antlr4-runtime;4.9.3 in central\n",
      ":: resolution report :: resolve 192ms :: artifacts dl 11ms\n",
      "\t:: modules in use:\n",
      "\tio.delta#delta-core_2.12;2.4.0 from central in [default]\n",
      "\tio.delta#delta-storage;2.4.0 from central in [default]\n",
      "\torg.antlr#antlr4-runtime;4.9.3 from central in [default]\n",
      "\t---------------------------------------------------------------------\n",
      "\t|                  |            modules            ||   artifacts   |\n",
      "\t|       conf       | number| search|dwnlded|evicted|| number|dwnlded|\n",
      "\t---------------------------------------------------------------------\n",
      "\t|      default     |   3   |   0   |   0   |   0   ||   3   |   0   |\n",
      "\t---------------------------------------------------------------------\n",
      ":: retrieving :: org.apache.spark#spark-submit-parent-d0a7a168-9dda-4af4-9fe0-0dc6e9102fad\n",
      "\tconfs: [default]\n",
      "\t0 artifacts copied, 3 already retrieved (0kB/5ms)\n",
      "23/11/14 11:41:59 WARN NativeCodeLoader: Unable to load native-hadoop library for your platform... using builtin-java classes where applicable\n",
      "Setting default log level to \"WARN\".\n",
      "To adjust logging level use sc.setLogLevel(newLevel). For SparkR, use setLogLevel(newLevel).\n",
      "23/11/14 11:42:01 WARN Utils: Service 'SparkUI' could not bind on port 4040. Attempting port 4041.\n"
     ]
    }
   ],
   "source": [
    "from pyspark.sql import SparkSession\n",
    "\n",
    "# Initialize SparkSession\n",
    "spark = SparkSession.builder \\\n",
    "    .master(\"local[*]\") \\\n",
    "    .appName('Create Delta Table') \\\n",
    "    .config(\"spark.jars\", \"/home/ubuntu/Downloads/postgresql-42.6.0.jar\") \\\n",
    "    .config(\"spark.jars.packages\", \"io.delta:delta-core_2.12:2.4.0\") \\\n",
    "    .config(\"spark.sql.extensions\", \"io.delta.sql.DeltaSparkSessionExtension\") \\\n",
    "    .config(\"spark.sql.catalog.spark_catalog\", \"org.apache.spark.sql.delta.catalog.DeltaCatalog\") \\\n",
    "    .getOrCreate()\n",
    "\n"
   ]
  },
  {
   "cell_type": "code",
   "execution_count": null,
   "metadata": {},
   "outputs": [],
   "source": [
    "\n",
    "from pyspark.sql.types import StructType, StructField, StringType, DateType, BooleanType\n",
    "\n",
    "# Define the schema for the data\n",
    "schema = StructType([\n",
    "    StructField(\"first_name\", StringType(), True),\n",
    "    StructField(\"last_name\", StringType(), True),\n",
    "    StructField(\"date_of_birth\", DateType(), True),\n",
    "    StructField(\"gender\", StringType(), True),\n",
    "    StructField(\"address\", StringType(), True),\n",
    "    StructField(\"phone_number\", StringType(), True),\n",
    "    StructField(\"email\", StringType(), True),\n",
    "    StructField(\"diagnosis\", StringType(), True),\n",
    "    StructField(\"admission_date\", DateType(), True),\n",
    "    StructField(\"discharged\", BooleanType(), True)\n",
    "])\n",
    "patient_df = spark.read.format(\"csv\").option(\"delimeter\", \",\").option(\"header\", True).schema(schema).load(\"data.csv\")"
   ]
  },
  {
   "cell_type": "code",
   "execution_count": null,
   "metadata": {},
   "outputs": [],
   "source": [
    "patient_df.repartition(1000).rdd.getNumPartitions()"
   ]
  },
  {
   "cell_type": "code",
   "execution_count": null,
   "metadata": {},
   "outputs": [],
   "source": [
    "from pyspark.sql.functions import dayofmonth, month, year\n",
    "\n",
    "patient_df = patient_df.withColumn(\"month\", month(\"admission_date\"))\n",
    "patient_df = patient_df.withColumn(\"year\", year(\"admission_date\"))\n",
    "patient_df = patient_df.withColumn(\"day\", dayofmonth(\"admission_date\"))"
   ]
  },
  {
   "cell_type": "code",
   "execution_count": null,
   "metadata": {},
   "outputs": [],
   "source": [
    "import random\n",
    "from pyspark.sql.functions import udf\n",
    "\n",
    "random_id_gen = udf(lambda: \"PRAC\"+str(random.randint(10000,11111)))\n",
    "patient_df = patient_df.withColumn(\"practitioner\", random_id_gen())\n",
    "patient_df.repartition(1000).repartition(\"year\", \"month\", \"day\", \"diagnosis\", \"gender\").write.mode(saveMode=\"overwrite\").format(\"delta\").option(\"overwriteSchema\", \"true\").save(\"delta-partition/patients\")\n"
   ]
  },
  {
   "cell_type": "code",
   "execution_count": 2,
   "metadata": {},
   "outputs": [
    {
     "name": "stderr",
     "output_type": "stream",
     "text": [
      "                                                                                \r"
     ]
    },
    {
     "data": {
      "text/plain": [
       "StructType([StructField('first_name', StringType(), True), StructField('last_name', StringType(), True), StructField('date_of_birth', DateType(), True), StructField('gender', StringType(), True), StructField('address', StringType(), True), StructField('phone_number', StringType(), True), StructField('email', StringType(), True), StructField('diagnosis', StringType(), True), StructField('admission_date', DateType(), True), StructField('discharged', BooleanType(), True), StructField('month', IntegerType(), True), StructField('year', IntegerType(), True), StructField('day', IntegerType(), True), StructField('practitioner', StringType(), True)])"
      ]
     },
     "execution_count": 2,
     "metadata": {},
     "output_type": "execute_result"
    }
   ],
   "source": [
    "delta_patient = spark.read.format(\"delta\").load(\"delta-partition-1000/patients\")\n",
    "delta_patient.schema"
   ]
  },
  {
   "cell_type": "code",
   "execution_count": 6,
   "metadata": {},
   "outputs": [],
   "source": [
    "from pyspark.sql import SQLContext\n",
    "\n",
    "sqlContext = SQLContext(spark)\n",
    "sqlContext.registerDataFrameAsTable(delta_patient, \"patients\")"
   ]
  },
  {
   "cell_type": "code",
   "execution_count": null,
   "metadata": {},
   "outputs": [],
   "source": [
    "from pyspark.sql.types import FloatType\n",
    "from faker import Faker\n",
    "\n",
    "fake = Faker()\n",
    "\n",
    "practitioner_schema = StructType([\n",
    "    StructField(\"practitioner_id\", StringType(), True),\n",
    "    StructField(\"name\", StringType(), True),\n",
    "    StructField(\"specialty\", StringType(), True),\n",
    "    StructField(\"experience_years\", FloatType(), True),\n",
    "    StructField(\"location\", StringType(), True),\n",
    "    StructField(\"email\", StringType(), True)\n",
    "])\n",
    "\n",
    "# Generate Fake Practitioners\n",
    "num_practitioners = 10000\n",
    "\n",
    "practitioners = []\n",
    "for id,_ in enumerate(range(num_practitioners)):\n",
    "    practitioner_id = \"PRAC\" + str(num_practitioners + id)\n",
    "    name = fake.name()\n",
    "    specialty = fake.random.choice([\"Cardiologist\", \"Dermatologist\", \"Pediatrician\", \"Orthopedic Surgeon\", \"Psychiatrist\"])\n",
    "    experience_years = float(fake.random.randrange(1,20))\n",
    "    address = fake.address().replace('\\n', '').replace(',', '')\n",
    "    email = fake.email()\n",
    "\n",
    "    practitioners.append((practitioner_id, name, specialty, experience_years, address, email))\n",
    "\n",
    "# Create DataFrame from practitioners\n",
    "practitioner_df = spark.createDataFrame(practitioners, schema=practitioner_schema)\n",
    "practitioner_df.repartition(100).write.mode(saveMode=\"overwrite\").format(\"delta\").save(\"delta-partition-1000/practitioners\")"
   ]
  },
  {
   "cell_type": "code",
   "execution_count": 4,
   "metadata": {},
   "outputs": [
    {
     "data": {
      "text/plain": [
       "StructType([StructField('practitioner_id', StringType(), True), StructField('name', StringType(), True), StructField('specialty', StringType(), True), StructField('experience_years', FloatType(), True), StructField('location', StringType(), True), StructField('email', StringType(), True)])"
      ]
     },
     "execution_count": 4,
     "metadata": {},
     "output_type": "execute_result"
    }
   ],
   "source": [
    "\n",
    "delta_practitioner = spark.read.format(\"delta\").load(\"delta-partition-1000/practitioners\")\n",
    "delta_practitioner.schema"
   ]
  },
  {
   "cell_type": "code",
   "execution_count": 13,
   "metadata": {},
   "outputs": [],
   "source": [
    "from pyspark.sql import SQLContext\n",
    "\n",
    "sqlContext = SQLContext(spark)\n",
    "sqlContext.registerDataFrameAsTable(delta_practitioner, \"practitioners\")"
   ]
  },
  {
   "cell_type": "code",
   "execution_count": 7,
   "metadata": {},
   "outputs": [
    {
     "name": "stdout",
     "output_type": "stream",
     "text": [
      "0.18877696990966797\n"
     ]
    }
   ],
   "source": [
    "import time \n",
    "\n",
    "s = time.time()\n",
    "sqlContext.sql(\"SELECT * FROM patients WHERE admission_date REGEXP '01-21'\")\n",
    "print(time.time() - s)"
   ]
  },
  {
   "cell_type": "code",
   "execution_count": 8,
   "metadata": {},
   "outputs": [
    {
     "name": "stdout",
     "output_type": "stream",
     "text": [
      "0.07281756401062012\n"
     ]
    }
   ],
   "source": [
    "s = time.time()\n",
    "sqlContext.sql(\"SELECT * FROM patients WHERE admission_date REGEXP '2020-01-21' and diagnosis='Fever' and gender='Male' and first_name='Steven'\")\n",
    "print(time.time() - s)"
   ]
  },
  {
   "cell_type": "code",
   "execution_count": 9,
   "metadata": {},
   "outputs": [
    {
     "name": "stdout",
     "output_type": "stream",
     "text": [
      "0.024633169174194336\n"
     ]
    }
   ],
   "source": [
    "s = time.time()\n",
    "sqlContext.sql(\"SELECT * FROM patients WHERE admission_date REGEXP '01-21' and diagnosis='Fever' and gender='Male'\")\n",
    "print(time.time() - s)"
   ]
  },
  {
   "cell_type": "code",
   "execution_count": 10,
   "metadata": {},
   "outputs": [
    {
     "name": "stdout",
     "output_type": "stream",
     "text": [
      "0.07954192161560059\n"
     ]
    }
   ],
   "source": [
    "s = time.time()\n",
    "sqlContext.sql(\"SELECT diagnosis, COUNT(diagnosis) as diagnosis_count FROM patients GROUP BY diagnosis\")\n",
    "print(time.time() - s)"
   ]
  },
  {
   "cell_type": "code",
   "execution_count": 11,
   "metadata": {},
   "outputs": [
    {
     "name": "stdout",
     "output_type": "stream",
     "text": [
      "0.029010295867919922\n"
     ]
    }
   ],
   "source": [
    "s = time.time()\n",
    "spark.sql(\"SELECT day, COUNT(day) as day_count FROM patients GROUP BY day\")\n",
    "print(time.time() - s)"
   ]
  },
  {
   "cell_type": "code",
   "execution_count": 14,
   "metadata": {},
   "outputs": [
    {
     "name": "stdout",
     "output_type": "stream",
     "text": [
      "0.03674674034118652\n"
     ]
    }
   ],
   "source": [
    "s = time.time()\n",
    "sqlContext.sql(\"SELECT * FROM patients INNER JOIN practitioners ON practitioners.practitioner_id=patients.practitioner\")\n",
    "print(time.time() - s)"
   ]
  },
  {
   "cell_type": "code",
   "execution_count": 15,
   "metadata": {},
   "outputs": [
    {
     "name": "stdout",
     "output_type": "stream",
     "text": [
      "0.015388727188110352\n"
     ]
    }
   ],
   "source": [
    "s = time.time()\n",
    "sqlContext.sql(\"SELECT * FROM patients;\")\n",
    "print(time.time() - s)"
   ]
  },
  {
   "cell_type": "code",
   "execution_count": 16,
   "metadata": {},
   "outputs": [
    {
     "name": "stdout",
     "output_type": "stream",
     "text": [
      "0.01124429702758789\n"
     ]
    }
   ],
   "source": [
    "s = time.time()\n",
    "sqlContext.sql(\"SELECT * FROM practitioners;\")\n",
    "print(time.time() - s)"
   ]
  },
  {
   "cell_type": "code",
   "execution_count": 17,
   "metadata": {},
   "outputs": [
    {
     "name": "stdout",
     "output_type": "stream",
     "text": [
      "0.021991968154907227\n"
     ]
    }
   ],
   "source": [
    "s = time.time()\n",
    "sqlContext.sql(\"SELECT * FROM patients WHERE diagnosis = 'Headache';\")\n",
    "print(time.time() - s)"
   ]
  },
  {
   "cell_type": "code",
   "execution_count": 18,
   "metadata": {},
   "outputs": [
    {
     "name": "stdout",
     "output_type": "stream",
     "text": [
      "0.02054286003112793\n"
     ]
    }
   ],
   "source": [
    "s = time.time()\n",
    "sqlContext.sql(\"SELECT * FROM practitioners WHERE experience_years > 10;\")\n",
    "print(time.time() - s)"
   ]
  },
  {
   "cell_type": "code",
   "execution_count": 19,
   "metadata": {},
   "outputs": [
    {
     "name": "stdout",
     "output_type": "stream",
     "text": [
      "0.022705793380737305\n"
     ]
    }
   ],
   "source": [
    "s = time.time()\n",
    "sqlContext.sql(\"SELECT gender, COUNT(*) FROM patients GROUP BY gender;\")\n",
    "print(time.time() - s)"
   ]
  },
  {
   "cell_type": "code",
   "execution_count": 20,
   "metadata": {},
   "outputs": [
    {
     "name": "stdout",
     "output_type": "stream",
     "text": [
      "0.02323174476623535\n"
     ]
    }
   ],
   "source": [
    "s = time.time()\n",
    "sqlContext.sql(\"SELECT specialty, AVG(experience_years) FROM practitioners GROUP BY specialty;\")\n",
    "print(time.time() - s)"
   ]
  },
  {
   "cell_type": "code",
   "execution_count": 21,
   "metadata": {},
   "outputs": [
    {
     "name": "stdout",
     "output_type": "stream",
     "text": [
      "0.01984429359436035\n"
     ]
    }
   ],
   "source": [
    "s = time.time()\n",
    "sqlContext.sql(\"SELECT * FROM patients WHERE admission_date < '2023-01-01';\")\n",
    "print(time.time() - s)"
   ]
  },
  {
   "cell_type": "code",
   "execution_count": 22,
   "metadata": {},
   "outputs": [
    {
     "name": "stdout",
     "output_type": "stream",
     "text": [
      "0.02972102165222168\n"
     ]
    }
   ],
   "source": [
    "s = time.time()\n",
    "sqlContext.sql(\"SELECT * FROM practitioners WHERE location LIKE '%City%';\")\n",
    "print(time.time() - s)"
   ]
  },
  {
   "cell_type": "code",
   "execution_count": 23,
   "metadata": {},
   "outputs": [
    {
     "name": "stdout",
     "output_type": "stream",
     "text": [
      "0.011874198913574219\n"
     ]
    }
   ],
   "source": [
    "s = time.time()\n",
    "sqlContext.sql(\"SELECT diagnosis, COUNT(*) FROM patients GROUP BY diagnosis;\")\n",
    "print(time.time() - s)"
   ]
  },
  {
   "cell_type": "code",
   "execution_count": 24,
   "metadata": {},
   "outputs": [
    {
     "name": "stdout",
     "output_type": "stream",
     "text": [
      "0.023538589477539062\n"
     ]
    }
   ],
   "source": [
    "s = time.time()\n",
    "sqlContext.sql(\"SELECT * FROM patients p JOIN practitioners pr ON p.address = pr.location;\")\n",
    "print(time.time() - s)"
   ]
  },
  {
   "cell_type": "code",
   "execution_count": 25,
   "metadata": {},
   "outputs": [
    {
     "name": "stdout",
     "output_type": "stream",
     "text": [
      "0.030556201934814453\n"
     ]
    }
   ],
   "source": [
    "s = time.time()\n",
    "sqlContext.sql(\"SELECT * FROM patients WHERE MONTH(admission_date) = 5;\")\n",
    "print(time.time() - s)"
   ]
  },
  {
   "cell_type": "code",
   "execution_count": 26,
   "metadata": {},
   "outputs": [
    {
     "name": "stdout",
     "output_type": "stream",
     "text": [
      "0.01771998405456543\n"
     ]
    }
   ],
   "source": [
    "s = time.time()\n",
    "sqlContext.sql(\"SELECT * FROM practitioners WHERE experience_years BETWEEN 5 AND 15;\")\n",
    "print(time.time() - s)"
   ]
  },
  {
   "cell_type": "code",
   "execution_count": 27,
   "metadata": {},
   "outputs": [
    {
     "name": "stdout",
     "output_type": "stream",
     "text": [
      "0.018644332885742188\n"
     ]
    }
   ],
   "source": [
    "s = time.time()\n",
    "sqlContext.sql(\"SELECT * FROM patients p JOIN practitioners pr ON p.diagnosis = pr.specialty;\")\n",
    "print(time.time() - s)"
   ]
  },
  {
   "cell_type": "code",
   "execution_count": 30,
   "metadata": {},
   "outputs": [
    {
     "name": "stdout",
     "output_type": "stream",
     "text": [
      "0.030059337615966797\n"
     ]
    }
   ],
   "source": [
    "s = time.time()\n",
    "sqlContext.sql(\"SELECT YEAR(admission_date), COUNT(*) FROM patients GROUP BY admission_date;\")\n",
    "print(time.time() - s)"
   ]
  },
  {
   "cell_type": "code",
   "execution_count": 31,
   "metadata": {},
   "outputs": [
    {
     "name": "stdout",
     "output_type": "stream",
     "text": [
      "0.034102678298950195\n"
     ]
    }
   ],
   "source": [
    "s = time.time()\n",
    "sqlContext.sql(\"SELECT * FROM practitioners ORDER BY experience_years DESC LIMIT 1;\")\n",
    "print(time.time() - s)"
   ]
  },
  {
   "cell_type": "code",
   "execution_count": 32,
   "metadata": {},
   "outputs": [
    {
     "name": "stdout",
     "output_type": "stream",
     "text": [
      "0.01971578598022461\n"
     ]
    }
   ],
   "source": [
    "s = time.time()\n",
    "sqlContext.sql(\"SELECT * FROM patients WHERE discharged = false;\")\n",
    "print(time.time() - s)"
   ]
  },
  {
   "cell_type": "code",
   "execution_count": 33,
   "metadata": {},
   "outputs": [
    {
     "name": "stdout",
     "output_type": "stream",
     "text": [
      "0.017071962356567383\n"
     ]
    }
   ],
   "source": [
    "s = time.time()\n",
    "sqlContext.sql(\"SELECT * FROM practitioners WHERE email LIKE '%.com';\")\n",
    "print(time.time() - s)"
   ]
  },
  {
   "cell_type": "code",
   "execution_count": 35,
   "metadata": {},
   "outputs": [
    {
     "name": "stdout",
     "output_type": "stream",
     "text": [
      "0.015531063079833984\n"
     ]
    }
   ],
   "source": [
    "s = time.time()\n",
    "sqlContext.sql(\"SELECT * FROM patients WHERE practitioner = '123';\")\n",
    "print(time.time() - s)"
   ]
  },
  {
   "cell_type": "code",
   "execution_count": 36,
   "metadata": {},
   "outputs": [
    {
     "name": "stdout",
     "output_type": "stream",
     "text": [
      "0.038361310958862305\n"
     ]
    }
   ],
   "source": [
    "s = time.time()\n",
    "sqlContext.sql(\"SELECT * FROM practitioners WHERE specialty = 'Cardiologist' AND location = 'Hospital A';\")\n",
    "print(time.time() - s)"
   ]
  },
  {
   "cell_type": "code",
   "execution_count": 37,
   "metadata": {},
   "outputs": [
    {
     "name": "stdout",
     "output_type": "stream",
     "text": [
      "0.017200231552124023\n"
     ]
    }
   ],
   "source": [
    "s = time.time()\n",
    "sqlContext.sql(\"SELECT * FROM patients p JOIN practitioners pr ON p.gender = pr.name;\")\n",
    "print(time.time() - s)"
   ]
  },
  {
   "cell_type": "code",
   "execution_count": 38,
   "metadata": {},
   "outputs": [
    {
     "name": "stdout",
     "output_type": "stream",
     "text": [
      "0.017252445220947266\n"
     ]
    }
   ],
   "source": [
    "s = time.time()\n",
    "sqlContext.sql(\"SELECT * FROM patients INNER JOIN practitioners ON patients.practitioner = practitioners.practitioner_id;\")\n",
    "print(time.time() - s)"
   ]
  },
  {
   "cell_type": "code",
   "execution_count": null,
   "metadata": {},
   "outputs": [],
   "source": [
    "s = time.time()\n",
    "sqlContext.sql(\"SELECT * FROM patients RIGHT JOIN practitioners ON patients.practitioner_id = practitioners.practitioner_id;\")\n",
    "print(time.time() - s)"
   ]
  },
  {
   "cell_type": "code",
   "execution_count": 39,
   "metadata": {},
   "outputs": [
    {
     "name": "stdout",
     "output_type": "stream",
     "text": [
      "0.018781185150146484\n"
     ]
    }
   ],
   "source": [
    "s = time.time()\n",
    "sqlContext.sql(\"SELECT * FROM patients FULL OUTER JOIN practitioners ON patients.practitioner = practitioners.practitioner_id;\")\n",
    "print(time.time() - s)"
   ]
  },
  {
   "cell_type": "code",
   "execution_count": 40,
   "metadata": {},
   "outputs": [
    {
     "name": "stdout",
     "output_type": "stream",
     "text": [
      "0.016555309295654297\n"
     ]
    }
   ],
   "source": [
    "s = time.time()\n",
    "sqlContext.sql(\"SELECT * FROM patients CROSS JOIN practitioners;\")\n",
    "print(time.time() - s)"
   ]
  },
  {
   "cell_type": "code",
   "execution_count": 41,
   "metadata": {},
   "outputs": [
    {
     "name": "stdout",
     "output_type": "stream",
     "text": [
      "0.02830195426940918\n"
     ]
    }
   ],
   "source": [
    "s = time.time()\n",
    "sqlContext.sql(\"SELECT * FROM patients p1 INNER JOIN patients p2 ON p1.practitioner = p2.practitioner AND p1.first_name != p2.first_name;\")\n",
    "print(time.time() - s)"
   ]
  },
  {
   "cell_type": "code",
   "execution_count": 43,
   "metadata": {},
   "outputs": [
    {
     "name": "stdout",
     "output_type": "stream",
     "text": [
      "0.020437955856323242\n"
     ]
    }
   ],
   "source": [
    "s = time.time()\n",
    "sqlContext.sql(\"SELECT * FROM patients JOIN practitioners ON patients.practitioner = practitioners.practitioner_id WHERE patients.first_name = practitioners.name;\")\n",
    "print(time.time() - s)"
   ]
  },
  {
   "cell_type": "code",
   "execution_count": 44,
   "metadata": {},
   "outputs": [
    {
     "name": "stdout",
     "output_type": "stream",
     "text": [
      "0.017418384552001953\n"
     ]
    }
   ],
   "source": [
    "s = time.time()\n",
    "sqlContext.sql(\"SELECT practitioners.practitioner_id, practitioners.name, COUNT(*) AS patient_count FROM practitioners LEFT JOIN patients ON practitioners.practitioner_id = patients.practitioner GROUP BY practitioners.practitioner_id, practitioners.name;\")\n",
    "print(time.time() - s)"
   ]
  },
  {
   "cell_type": "code",
   "execution_count": 45,
   "metadata": {},
   "outputs": [
    {
     "name": "stdout",
     "output_type": "stream",
     "text": [
      "0.022181034088134766\n"
     ]
    }
   ],
   "source": [
    "s = time.time()\n",
    "sqlContext.sql(\"SELECT * FROM patients JOIN practitioners ON patients.practitioner = practitioners.practitioner_id WHERE patients.address = practitioners.location AND patients.diagnosis = practitioners.specialty;\")\n",
    "print(time.time() - s)"
   ]
  },
  {
   "cell_type": "code",
   "execution_count": 46,
   "metadata": {},
   "outputs": [
    {
     "name": "stdout",
     "output_type": "stream",
     "text": [
      "0.014779090881347656\n"
     ]
    }
   ],
   "source": [
    "s = time.time()\n",
    "sqlContext.sql(\"SELECT * FROM patients LEFT JOIN practitioners ON patients.practitioner = practitioners.practitioner_id WHERE practitioners.practitioner_id IS NULL;\")\n",
    "print(time.time() - s)"
   ]
  },
  {
   "cell_type": "code",
   "execution_count": 47,
   "metadata": {},
   "outputs": [
    {
     "name": "stdout",
     "output_type": "stream",
     "text": [
      "0.017317533493041992\n"
     ]
    }
   ],
   "source": [
    "s = time.time()\n",
    "sqlContext.sql(\"SELECT * FROM patients WHERE diagnosis = 'Headache' AND admission_date > '2023-01-01';\")\n",
    "print(time.time() - s)"
   ]
  },
  {
   "cell_type": "code",
   "execution_count": 48,
   "metadata": {},
   "outputs": [
    {
     "name": "stdout",
     "output_type": "stream",
     "text": [
      "0.008323907852172852\n"
     ]
    }
   ],
   "source": [
    "s = time.time()\n",
    "sqlContext.sql(\"SELECT * FROM practitioners WHERE location = 'City A' AND experience_years > 10;\")\n",
    "print(time.time() - s)"
   ]
  },
  {
   "cell_type": "code",
   "execution_count": 49,
   "metadata": {},
   "outputs": [
    {
     "name": "stdout",
     "output_type": "stream",
     "text": [
      "0.008826017379760742\n"
     ]
    }
   ],
   "source": [
    "s = time.time()\n",
    "sqlContext.sql(\"SELECT * FROM patients WHERE gender = 'Male' AND diagnosis = 'Back Pain';\")\n",
    "print(time.time() - s)"
   ]
  },
  {
   "cell_type": "code",
   "execution_count": 50,
   "metadata": {},
   "outputs": [
    {
     "name": "stdout",
     "output_type": "stream",
     "text": [
      "0.013671636581420898\n"
     ]
    }
   ],
   "source": [
    "s = time.time()\n",
    "sqlContext.sql(\"SELECT * FROM practitioners WHERE specialty = 'Cardiologist' AND experience_years BETWEEN 5 AND 15;\")\n",
    "print(time.time() - s)"
   ]
  },
  {
   "cell_type": "code",
   "execution_count": 51,
   "metadata": {},
   "outputs": [
    {
     "name": "stdout",
     "output_type": "stream",
     "text": [
      "0.01461338996887207\n"
     ]
    }
   ],
   "source": [
    "s = time.time()\n",
    "sqlContext.sql(\"SELECT * FROM patients WHERE MONTH(admission_date) = 3 AND discharged = true;\")\n",
    "print(time.time() - s)"
   ]
  },
  {
   "cell_type": "code",
   "execution_count": 52,
   "metadata": {},
   "outputs": [
    {
     "name": "stdout",
     "output_type": "stream",
     "text": [
      "0.016833066940307617\n"
     ]
    }
   ],
   "source": [
    "s = time.time()\n",
    "sqlContext.sql(\"SELECT * FROM practitioners WHERE email LIKE '%example.com' AND location = 'Hospital B';\")\n",
    "print(time.time() - s)"
   ]
  },
  {
   "cell_type": "code",
   "execution_count": 53,
   "metadata": {},
   "outputs": [
    {
     "name": "stdout",
     "output_type": "stream",
     "text": [
      "0.01139068603515625\n"
     ]
    }
   ],
   "source": [
    "s = time.time()\n",
    "sqlContext.sql(\"SELECT * FROM patients WHERE diagnosis = 'Cough' OR admission_date > '2023-02-01';\")\n",
    "print(time.time() - s)"
   ]
  },
  {
   "cell_type": "code",
   "execution_count": 54,
   "metadata": {},
   "outputs": [
    {
     "name": "stdout",
     "output_type": "stream",
     "text": [
      "0.010317087173461914\n"
     ]
    }
   ],
   "source": [
    "s = time.time()\n",
    "sqlContext.sql(\"SELECT * FROM practitioners WHERE specialty = 'Orthopedic Surgeon' OR experience_years > 20;\")\n",
    "print(time.time() - s)"
   ]
  },
  {
   "cell_type": "code",
   "execution_count": 56,
   "metadata": {},
   "outputs": [
    {
     "name": "stdout",
     "output_type": "stream",
     "text": [
      "0.013528823852539062\n"
     ]
    }
   ],
   "source": [
    "s = time.time()\n",
    "sqlContext.sql(\"SELECT * FROM patients WHERE diagnosis = 'Fever' AND practitioner = '123';\")\n",
    "print(time.time() - s)"
   ]
  },
  {
   "cell_type": "code",
   "execution_count": 57,
   "metadata": {},
   "outputs": [
    {
     "name": "stdout",
     "output_type": "stream",
     "text": [
      "0.011412620544433594\n"
     ]
    }
   ],
   "source": [
    "s = time.time()\n",
    "sqlContext.sql(\"SELECT * FROM practitioners WHERE experience_years > 10 AND location = 'Hospital C';\")\n",
    "print(time.time() - s)"
   ]
  },
  {
   "cell_type": "code",
   "execution_count": 59,
   "metadata": {},
   "outputs": [
    {
     "name": "stdout",
     "output_type": "stream",
     "text": [
      "0.03357577323913574\n"
     ]
    }
   ],
   "source": [
    "s = time.time()\n",
    "sqlContext.sql(\"SELECT * FROM patients WHERE diagnosis REGEXP 'Cough' OR practitioner IN (SELECT practitioner_id FROM practitioners WHERE specialty REGEXP 'Orthopedic');\")\n",
    "print(time.time() - s)"
   ]
  }
 ],
 "metadata": {
  "kernelspec": {
   "display_name": "Python 3",
   "language": "python",
   "name": "python3"
  },
  "language_info": {
   "codemirror_mode": {
    "name": "ipython",
    "version": 3
   },
   "file_extension": ".py",
   "mimetype": "text/x-python",
   "name": "python",
   "nbconvert_exporter": "python",
   "pygments_lexer": "ipython3",
   "version": "3.8.10"
  }
 },
 "nbformat": 4,
 "nbformat_minor": 2
}
