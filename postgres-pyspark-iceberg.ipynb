{
 "cells": [
  {
   "cell_type": "code",
   "execution_count": 1,
   "metadata": {},
   "outputs": [
    {
     "name": "stderr",
     "output_type": "stream",
     "text": [
      "23/11/14 15:34:16 WARN Utils: Your hostname, ubuntu-ThinkPad-T480 resolves to a loopback address: 127.0.1.1; using 192.168.1.111 instead (on interface wlp3s0)\n",
      "23/11/14 15:34:16 WARN Utils: Set SPARK_LOCAL_IP if you need to bind to another address\n"
     ]
    },
    {
     "name": "stdout",
     "output_type": "stream",
     "text": [
      ":: loading settings :: url = jar:file:/opt/spark/jars/ivy-2.5.1.jar!/org/apache/ivy/core/settings/ivysettings.xml\n"
     ]
    },
    {
     "name": "stderr",
     "output_type": "stream",
     "text": [
      "Ivy Default Cache set to: /home/ubuntu/.ivy2/cache\n",
      "The jars for the packages stored in: /home/ubuntu/.ivy2/jars\n",
      "org.apache.iceberg#iceberg-spark-runtime-3.4_2.12 added as a dependency\n",
      ":: resolving dependencies :: org.apache.spark#spark-submit-parent-29a0a2db-f807-4d1c-bab0-97288fff68b9;1.0\n",
      "\tconfs: [default]\n",
      "\tfound org.apache.iceberg#iceberg-spark-runtime-3.4_2.12;1.4.1 in central\n",
      ":: resolution report :: resolve 144ms :: artifacts dl 6ms\n",
      "\t:: modules in use:\n",
      "\torg.apache.iceberg#iceberg-spark-runtime-3.4_2.12;1.4.1 from central in [default]\n",
      "\t---------------------------------------------------------------------\n",
      "\t|                  |            modules            ||   artifacts   |\n",
      "\t|       conf       | number| search|dwnlded|evicted|| number|dwnlded|\n",
      "\t---------------------------------------------------------------------\n",
      "\t|      default     |   1   |   0   |   0   |   0   ||   1   |   0   |\n",
      "\t---------------------------------------------------------------------\n",
      ":: retrieving :: org.apache.spark#spark-submit-parent-29a0a2db-f807-4d1c-bab0-97288fff68b9\n",
      "\tconfs: [default]\n",
      "\t0 artifacts copied, 1 already retrieved (0kB/8ms)\n",
      "23/11/14 15:34:17 WARN NativeCodeLoader: Unable to load native-hadoop library for your platform... using builtin-java classes where applicable\n",
      "Setting default log level to \"WARN\".\n",
      "To adjust logging level use sc.setLogLevel(newLevel). For SparkR, use setLogLevel(newLevel).\n"
     ]
    }
   ],
   "source": [
    "from pyspark.sql import SparkSession\n",
    "\n",
    "# Initialize SparkSession\n",
    "spark = SparkSession.builder.master(\"local[*]\") \\\n",
    "    .appName(\"Create Iceberg Table\") \\\n",
    "    .config(\"spark.jars\", \"/home/ubuntu/Downloads/postgresql-42.6.0.jar\") \\\n",
    "    .config(\"spark.jars.packages\", \"org.apache.iceberg:iceberg-spark-runtime-3.4_2.12:1.4.1\") \\\n",
    "    .config(\"spark.sql.extensions\", \"org.apache.iceberg.spark.extensions.IcebergSparkSessionExtensions\") \\\n",
    "    .config(\"spark.sql.catalog.spark_catalog\", \"org.apache.iceberg.spark.SparkSessionCatalog\") \\\n",
    "    .config(\"spark.sql.catalog.spark_catalog.type\", \"hive\") \\\n",
    "    .config(\"spark.sql.catalog.local\", \"org.apache.iceberg.spark.SparkCatalog\") \\\n",
    "    .config(\"spark.sql.catalog.local.type\", \"hadoop\") \\\n",
    "    .config(\"spark.sql.catalog.local.warehouse\", \"./iceberg-partition\") \\\n",
    "    .config(\"spark.hadoop.iceberg.writer.spec-id\", \"-1\") \\\n",
    "    .getOrCreate()\n",
    "\n",
    "\n"
   ]
  },
  {
   "cell_type": "code",
   "execution_count": null,
   "metadata": {},
   "outputs": [],
   "source": [
    "from pyspark.sql.types import StructType, StructField, StringType, DateType, BooleanType\n",
    "\n",
    "# Define the schema for the data\n",
    "schema = StructType([\n",
    "    StructField(\"first_name\", StringType(), True),\n",
    "    StructField(\"last_name\", StringType(), True),\n",
    "    StructField(\"date_of_birth\", DateType(), True),\n",
    "    StructField(\"gender\", StringType(), True),\n",
    "    StructField(\"address\", StringType(), True),\n",
    "    StructField(\"phone_number\", StringType(), True),\n",
    "    StructField(\"email\", StringType(), True),\n",
    "    StructField(\"diagnosis\", StringType(), True),\n",
    "    StructField(\"admission_date\", DateType(), True),\n",
    "    StructField(\"discharged\", BooleanType(), True)\n",
    "])\n",
    "patient_df = spark.read.format(\"csv\").option(\"delimeter\", \",\").option(\"header\", True).schema(schema).load(\"data.csv\")"
   ]
  },
  {
   "cell_type": "code",
   "execution_count": null,
   "metadata": {},
   "outputs": [],
   "source": [
    "\n",
    "patient_df.repartition(1000).writeTo(\"local.patient_iceberg\").createOrReplace()"
   ]
  },
  {
   "cell_type": "code",
   "execution_count": 3,
   "metadata": {},
   "outputs": [
    {
     "name": "stdout",
     "output_type": "stream",
     "text": [
      "0.06533265113830566\n"
     ]
    }
   ],
   "source": [
    "import time \n",
    "\n",
    "s = time.time()\n",
    "spark.sql(\"SELECT * FROM local.patient_iceberg WHERE admission_date REGEXP '01-21'\")\n",
    "print(time.time() - s)"
   ]
  },
  {
   "cell_type": "code",
   "execution_count": 4,
   "metadata": {},
   "outputs": [
    {
     "name": "stdout",
     "output_type": "stream",
     "text": [
      "0.11518120765686035\n"
     ]
    }
   ],
   "source": [
    "s = time.time()\n",
    "spark.sql(\"SELECT * FROM local.patient_iceberg WHERE admission_date REGEXP '2020-01-21' and diagnosis='Fever' and gender='Male' and first_name='Steven'\")\n",
    "print(time.time() - s)"
   ]
  },
  {
   "cell_type": "code",
   "execution_count": 5,
   "metadata": {},
   "outputs": [
    {
     "name": "stdout",
     "output_type": "stream",
     "text": [
      "0.05190753936767578\n"
     ]
    }
   ],
   "source": [
    "s = time.time()\n",
    "spark.sql(\"SELECT * FROM local.patient_iceberg WHERE admission_date REGEXP '01-21' and diagnosis='Fever' and gender='Male'\")\n",
    "print(time.time() - s)"
   ]
  },
  {
   "cell_type": "code",
   "execution_count": 6,
   "metadata": {},
   "outputs": [
    {
     "name": "stdout",
     "output_type": "stream",
     "text": [
      "0.11379551887512207\n"
     ]
    }
   ],
   "source": [
    "s = time.time()\n",
    "spark.sql(\"SELECT diagnosis, COUNT(diagnosis) as diagnosis_count FROM local.patient_iceberg GROUP BY diagnosis\")\n",
    "print(time.time() - s)"
   ]
  },
  {
   "cell_type": "code",
   "execution_count": null,
   "metadata": {},
   "outputs": [],
   "source": [
    "from pyspark.sql.types import FloatType\n",
    "from faker import Faker\n",
    "\n",
    "fake = Faker()\n",
    "\n",
    "practitioner_schema = StructType([\n",
    "    StructField(\"practitioner_id\", StringType(), True),\n",
    "    StructField(\"name\", StringType(), True),\n",
    "    StructField(\"specialty\", StringType(), True),\n",
    "    StructField(\"experience_years\", FloatType(), True),\n",
    "    StructField(\"location\", StringType(), True),\n",
    "    StructField(\"email\", StringType(), True)\n",
    "])\n",
    "\n",
    "# Generate Fake local.practitioner_iceberg\n",
    "num_practitioners = 10000\n",
    "\n",
    "practitioners = []\n",
    "for id,_ in enumerate(range(num_practitioners)):\n",
    "    practitioner_id = \"PRAC\" + str(num_practitioners + id)\n",
    "    name = fake.name()\n",
    "    specialty = fake.random.choice([\"Cardiologist\", \"Dermatologist\", \"Pediatrician\", \"Orthopedic Surgeon\", \"Psychiatrist\"])\n",
    "    experience_years = float(fake.random.randrange(1,20))\n",
    "    address = fake.address().replace('\\n', '').replace(',', '')\n",
    "    email = fake.email()\n",
    "\n",
    "    practitioners.append((practitioner_id, name, specialty, experience_years, address, email))\n",
    "\n",
    "# Create DataFrame from local.practitioner_iceberg\n",
    "practitioner_df = spark.createDataFrame(local.practitioner_iceberg, schema=practitioner_schema)\n",
    "\n"
   ]
  },
  {
   "cell_type": "code",
   "execution_count": null,
   "metadata": {},
   "outputs": [],
   "source": [
    "practitioner_df.repartition(100).writeTo(\"local.practitioner_iceberg\").createOrReplace()"
   ]
  },
  {
   "cell_type": "code",
   "execution_count": null,
   "metadata": {},
   "outputs": [],
   "source": [
    "import random\n",
    "from pyspark.sql.functions import udf\n",
    "\n",
    "random_id_gen = udf(lambda: \"PRAC\"+str(random.randint(10000,99999)))\n",
    "patient_df = patient_df.withColumn(\"practitioner\", random_id_gen())"
   ]
  },
  {
   "cell_type": "code",
   "execution_count": null,
   "metadata": {},
   "outputs": [],
   "source": [
    "patient_df.repartition(1000).writeTo(\"local.patient_iceberg\").createOrReplace()"
   ]
  },
  {
   "cell_type": "code",
   "execution_count": 7,
   "metadata": {},
   "outputs": [
    {
     "name": "stdout",
     "output_type": "stream",
     "text": [
      "0.09034490585327148\n"
     ]
    }
   ],
   "source": [
    "s = time.time()\n",
    "spark.sql(\"SELECT * FROM local.patient_iceberg INNER JOIN local.practitioner_iceberg on local.practitioner_iceberg.practitioner_id=local.patient_iceberg.practitioner\")\n",
    "print(time.time() - s)"
   ]
  },
  {
   "cell_type": "code",
   "execution_count": 8,
   "metadata": {},
   "outputs": [
    {
     "name": "stdout",
     "output_type": "stream",
     "text": [
      "0.02079916000366211\n"
     ]
    }
   ],
   "source": [
    "s = time.time()\n",
    "spark.sql(\"SELECT * FROM local.practitioner_iceberg;\")\n",
    "print(time.time() - s)"
   ]
  },
  {
   "cell_type": "code",
   "execution_count": 9,
   "metadata": {},
   "outputs": [
    {
     "name": "stdout",
     "output_type": "stream",
     "text": [
      "0.030780315399169922\n"
     ]
    }
   ],
   "source": [
    "s = time.time()\n",
    "spark.sql(\"SELECT * FROM local.patient_iceberg WHERE diagnosis = 'Headache';\")\n",
    "print(time.time() - s)"
   ]
  },
  {
   "cell_type": "code",
   "execution_count": 10,
   "metadata": {},
   "outputs": [
    {
     "name": "stdout",
     "output_type": "stream",
     "text": [
      "0.04002499580383301\n"
     ]
    }
   ],
   "source": [
    "s = time.time()\n",
    "spark.sql(\"SELECT * FROM local.practitioner_iceberg WHERE experience_years > 10;\")\n",
    "print(time.time() - s)"
   ]
  },
  {
   "cell_type": "code",
   "execution_count": 11,
   "metadata": {},
   "outputs": [
    {
     "name": "stdout",
     "output_type": "stream",
     "text": [
      "0.030773162841796875\n"
     ]
    }
   ],
   "source": [
    "s = time.time()\n",
    "spark.sql(\"SELECT gender, COUNT(*) FROM local.patient_iceberg GROUP BY gender;\")\n",
    "print(time.time() - s)"
   ]
  },
  {
   "cell_type": "code",
   "execution_count": 12,
   "metadata": {},
   "outputs": [
    {
     "name": "stdout",
     "output_type": "stream",
     "text": [
      "0.027812719345092773\n"
     ]
    }
   ],
   "source": [
    "s = time.time()\n",
    "spark.sql(\"SELECT specialty, AVG(experience_years) FROM local.practitioner_iceberg GROUP BY specialty;\")\n",
    "print(time.time() - s)"
   ]
  },
  {
   "cell_type": "code",
   "execution_count": 13,
   "metadata": {},
   "outputs": [
    {
     "name": "stdout",
     "output_type": "stream",
     "text": [
      "0.03177285194396973\n"
     ]
    }
   ],
   "source": [
    "s = time.time()\n",
    "spark.sql(\"SELECT * FROM local.patient_iceberg WHERE admission_date < '2023-01-01';\")\n",
    "print(time.time() - s)"
   ]
  },
  {
   "cell_type": "code",
   "execution_count": 14,
   "metadata": {},
   "outputs": [
    {
     "name": "stdout",
     "output_type": "stream",
     "text": [
      "0.04801654815673828\n"
     ]
    }
   ],
   "source": [
    "s = time.time()\n",
    "spark.sql(\"SELECT * FROM local.practitioner_iceberg WHERE location LIKE '%City%';\")\n",
    "print(time.time() - s)"
   ]
  },
  {
   "cell_type": "code",
   "execution_count": 15,
   "metadata": {},
   "outputs": [
    {
     "name": "stdout",
     "output_type": "stream",
     "text": [
      "0.021311521530151367\n"
     ]
    }
   ],
   "source": [
    "s = time.time()\n",
    "spark.sql(\"SELECT diagnosis, COUNT(*) FROM local.patient_iceberg GROUP BY diagnosis;\")\n",
    "print(time.time() - s)"
   ]
  },
  {
   "cell_type": "code",
   "execution_count": 17,
   "metadata": {},
   "outputs": [
    {
     "name": "stdout",
     "output_type": "stream",
     "text": [
      "0.04553055763244629\n"
     ]
    }
   ],
   "source": [
    "s = time.time()\n",
    "spark.sql(\"SELECT * FROM local.patient_iceberg p JOIN local.practitioner_iceberg pr ON p.address = pr.location;\")\n",
    "print(time.time() - s)"
   ]
  },
  {
   "cell_type": "code",
   "execution_count": 18,
   "metadata": {},
   "outputs": [
    {
     "name": "stdout",
     "output_type": "stream",
     "text": [
      "0.05259132385253906\n"
     ]
    }
   ],
   "source": [
    "s = time.time()\n",
    "spark.sql(\"SELECT * FROM local.patient_iceberg WHERE MONTH(admission_date) = 5;\")\n",
    "print(time.time() - s)"
   ]
  },
  {
   "cell_type": "code",
   "execution_count": 19,
   "metadata": {},
   "outputs": [
    {
     "name": "stdout",
     "output_type": "stream",
     "text": [
      "0.020527362823486328\n"
     ]
    }
   ],
   "source": [
    "s = time.time()\n",
    "spark.sql(\"SELECT * FROM local.practitioner_iceberg WHERE experience_years BETWEEN 5 AND 15;\")\n",
    "print(time.time() - s)"
   ]
  },
  {
   "cell_type": "code",
   "execution_count": 20,
   "metadata": {},
   "outputs": [
    {
     "name": "stdout",
     "output_type": "stream",
     "text": [
      "0.03374624252319336\n"
     ]
    }
   ],
   "source": [
    "s = time.time()\n",
    "spark.sql(\"SELECT * FROM local.patient_iceberg p JOIN local.practitioner_iceberg pr ON p.diagnosis = pr.specialty;\")\n",
    "print(time.time() - s)"
   ]
  },
  {
   "cell_type": "code",
   "execution_count": 21,
   "metadata": {},
   "outputs": [
    {
     "name": "stdout",
     "output_type": "stream",
     "text": [
      "0.03134918212890625\n"
     ]
    }
   ],
   "source": [
    "s = time.time()\n",
    "spark.sql(\"SELECT YEAR(admission_date) AS year, COUNT(*) FROM local.patient_iceberg GROUP BY year;\")\n",
    "print(time.time() - s)"
   ]
  },
  {
   "cell_type": "code",
   "execution_count": 22,
   "metadata": {},
   "outputs": [
    {
     "name": "stdout",
     "output_type": "stream",
     "text": [
      "0.03145790100097656\n"
     ]
    }
   ],
   "source": [
    "s = time.time()\n",
    "spark.sql(\"SELECT * FROM local.practitioner_iceberg ORDER BY experience_years DESC LIMIT 1;\")\n",
    "print(time.time() - s)"
   ]
  },
  {
   "cell_type": "code",
   "execution_count": 23,
   "metadata": {},
   "outputs": [
    {
     "name": "stdout",
     "output_type": "stream",
     "text": [
      "0.0253751277923584\n"
     ]
    }
   ],
   "source": [
    "s = time.time()\n",
    "spark.sql(\"SELECT * FROM local.patient_iceberg WHERE discharged = false;\")\n",
    "print(time.time() - s)"
   ]
  },
  {
   "cell_type": "code",
   "execution_count": 24,
   "metadata": {},
   "outputs": [
    {
     "name": "stdout",
     "output_type": "stream",
     "text": [
      "0.014177322387695312\n"
     ]
    }
   ],
   "source": [
    "s = time.time()\n",
    "spark.sql(\"SELECT * FROM local.practitioner_iceberg WHERE email LIKE '%.com';\")\n",
    "print(time.time() - s)"
   ]
  },
  {
   "cell_type": "code",
   "execution_count": 26,
   "metadata": {},
   "outputs": [
    {
     "name": "stdout",
     "output_type": "stream",
     "text": [
      "0.019626379013061523\n"
     ]
    }
   ],
   "source": [
    "s = time.time()\n",
    "spark.sql(\"SELECT * FROM local.patient_iceberg WHERE practitioner = '123';\")\n",
    "print(time.time() - s)"
   ]
  },
  {
   "cell_type": "code",
   "execution_count": 27,
   "metadata": {},
   "outputs": [
    {
     "name": "stdout",
     "output_type": "stream",
     "text": [
      "0.021912574768066406\n"
     ]
    }
   ],
   "source": [
    "s = time.time()\n",
    "spark.sql(\"SELECT * FROM local.practitioner_iceberg WHERE specialty = 'Cardiologist' AND location = 'Hospital A';\")\n",
    "print(time.time() - s)"
   ]
  },
  {
   "cell_type": "code",
   "execution_count": 28,
   "metadata": {},
   "outputs": [
    {
     "name": "stdout",
     "output_type": "stream",
     "text": [
      "0.027526378631591797\n"
     ]
    }
   ],
   "source": [
    "s = time.time()\n",
    "spark.sql(\"SELECT * FROM local.patient_iceberg p JOIN local.practitioner_iceberg pr ON p.gender = pr.name;\")\n",
    "print(time.time() - s)"
   ]
  },
  {
   "cell_type": "code",
   "execution_count": 30,
   "metadata": {},
   "outputs": [
    {
     "name": "stdout",
     "output_type": "stream",
     "text": [
      "0.02884960174560547\n"
     ]
    }
   ],
   "source": [
    "s = time.time()\n",
    "spark.sql(\"SELECT * FROM local.patient_iceberg INNER JOIN local.practitioner_iceberg ON local.patient_iceberg.practitioner = local.practitioner_iceberg.practitioner_id;\")\n",
    "print(time.time() - s)"
   ]
  },
  {
   "cell_type": "code",
   "execution_count": 31,
   "metadata": {},
   "outputs": [
    {
     "name": "stdout",
     "output_type": "stream",
     "text": [
      "0.024173974990844727\n"
     ]
    }
   ],
   "source": [
    "s = time.time()\n",
    "spark.sql(\"SELECT * FROM local.patient_iceberg RIGHT JOIN local.practitioner_iceberg ON local.patient_iceberg.practitioner = local.practitioner_iceberg.practitioner_id;\")\n",
    "print(time.time() - s)"
   ]
  },
  {
   "cell_type": "code",
   "execution_count": 32,
   "metadata": {},
   "outputs": [
    {
     "name": "stdout",
     "output_type": "stream",
     "text": [
      "0.024791955947875977\n"
     ]
    }
   ],
   "source": [
    "s = time.time()\n",
    "spark.sql(\"SELECT * FROM local.patient_iceberg FULL OUTER JOIN local.practitioner_iceberg ON local.patient_iceberg.practitioner = local.practitioner_iceberg.practitioner_id;\")\n",
    "print(time.time() - s)"
   ]
  },
  {
   "cell_type": "code",
   "execution_count": 33,
   "metadata": {},
   "outputs": [
    {
     "name": "stdout",
     "output_type": "stream",
     "text": [
      "0.021206140518188477\n"
     ]
    }
   ],
   "source": [
    "s = time.time()\n",
    "spark.sql(\"SELECT * FROM local.patient_iceberg CROSS JOIN local.practitioner_iceberg;\")\n",
    "print(time.time() - s)"
   ]
  },
  {
   "cell_type": "code",
   "execution_count": 38,
   "metadata": {},
   "outputs": [
    {
     "name": "stdout",
     "output_type": "stream",
     "text": [
      "0.03283858299255371\n"
     ]
    }
   ],
   "source": [
    "s = time.time()\n",
    "spark.sql(\"SELECT * FROM local.patient_iceberg p1 INNER JOIN local.patient_iceberg p2 ON p1.practitioner = p2.practitioner AND p1.fiRST_name != p2.fiRST_name;\")\n",
    "print(time.time() - s)"
   ]
  }
 ],
 "metadata": {
  "kernelspec": {
   "display_name": "Python 3",
   "language": "python",
   "name": "python3"
  },
  "language_info": {
   "codemirror_mode": {
    "name": "ipython",
    "version": 3
   },
   "file_extension": ".py",
   "mimetype": "text/x-python",
   "name": "python",
   "nbconvert_exporter": "python",
   "pygments_lexer": "ipython3",
   "version": "3.8.10"
  }
 },
 "nbformat": 4,
 "nbformat_minor": 2
}
