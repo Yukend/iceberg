{
 "cells": [
  {
   "cell_type": "code",
   "execution_count": 1,
   "metadata": {},
   "outputs": [
    {
     "name": "stderr",
     "output_type": "stream",
     "text": [
      "23/11/14 16:02:55 WARN Utils: Your hostname, ubuntu-ThinkPad-T480 resolves to a loopback address: 127.0.1.1; using 192.168.1.111 instead (on interface wlp3s0)\n",
      "23/11/14 16:02:55 WARN Utils: Set SPARK_LOCAL_IP if you need to bind to another address\n"
     ]
    },
    {
     "name": "stdout",
     "output_type": "stream",
     "text": [
      ":: loading settings :: url = jar:file:/opt/spark/jars/ivy-2.5.1.jar!/org/apache/ivy/core/settings/ivysettings.xml\n"
     ]
    },
    {
     "name": "stderr",
     "output_type": "stream",
     "text": [
      "Ivy Default Cache set to: /home/ubuntu/.ivy2/cache\n",
      "The jars for the packages stored in: /home/ubuntu/.ivy2/jars\n",
      "org.apache.iceberg#iceberg-spark-runtime-3.4_2.12 added as a dependency\n",
      ":: resolving dependencies :: org.apache.spark#spark-submit-parent-2eb8d8b7-ac2a-4b36-9911-65982d562cc6;1.0\n",
      "\tconfs: [default]\n",
      "\tfound org.apache.iceberg#iceberg-spark-runtime-3.4_2.12;1.4.1 in central\n",
      ":: resolution report :: resolve 235ms :: artifacts dl 9ms\n",
      "\t:: modules in use:\n",
      "\torg.apache.iceberg#iceberg-spark-runtime-3.4_2.12;1.4.1 from central in [default]\n",
      "\t---------------------------------------------------------------------\n",
      "\t|                  |            modules            ||   artifacts   |\n",
      "\t|       conf       | number| search|dwnlded|evicted|| number|dwnlded|\n",
      "\t---------------------------------------------------------------------\n",
      "\t|      default     |   1   |   0   |   0   |   0   ||   1   |   0   |\n",
      "\t---------------------------------------------------------------------\n",
      ":: retrieving :: org.apache.spark#spark-submit-parent-2eb8d8b7-ac2a-4b36-9911-65982d562cc6\n",
      "\tconfs: [default]\n",
      "\t0 artifacts copied, 1 already retrieved (0kB/9ms)\n",
      "23/11/14 16:02:57 WARN NativeCodeLoader: Unable to load native-hadoop library for your platform... using builtin-java classes where applicable\n",
      "Setting default log level to \"WARN\".\n",
      "To adjust logging level use sc.setLogLevel(newLevel). For SparkR, use setLogLevel(newLevel).\n",
      "23/11/14 16:02:59 WARN Utils: Service 'SparkUI' could not bind on port 4040. Attempting port 4041.\n"
     ]
    }
   ],
   "source": [
    "from pyspark.sql import SparkSession\n",
    "\n",
    "# Initialize SparkSession\n",
    "spark = SparkSession.builder.master(\"local[*]\") \\\n",
    "    .appName(\"Create Iceberg Table\") \\\n",
    "    .config(\"spark.jars\", \"/home/ubuntu/Downloads/postgresql-42.6.0.jar\") \\\n",
    "    .config(\"spark.jars.packages\", \"org.apache.iceberg:iceberg-spark-runtime-3.4_2.12:1.4.1\") \\\n",
    "    .config(\"spark.sql.extensions\", \"org.apache.iceberg.spark.extensions.IcebergSparkSessionExtensions\") \\\n",
    "    .config(\"spark.sql.catalog.spark_catalog\", \"org.apache.iceberg.spark.SparkSessionCatalog\") \\\n",
    "    .config(\"spark.sql.catalog.spark_catalog.type\", \"hive\") \\\n",
    "    .config(\"spark.sql.catalog.local\", \"org.apache.iceberg.spark.SparkCatalog\") \\\n",
    "    .config(\"spark.sql.catalog.local.type\", \"hadoop\") \\\n",
    "    .config(\"spark.sql.catalog.local.warehouse\", \"./iceberg-partition-col\") \\\n",
    "    .config(\"spark.hadoop.iceberg.writer.spec-id\", \"-1\") \\\n",
    "    .getOrCreate()\n",
    "\n",
    "\n"
   ]
  },
  {
   "cell_type": "code",
   "execution_count": null,
   "metadata": {},
   "outputs": [],
   "source": [
    "from pyspark.sql.types import StructType, StructField, StringType, DateType, BooleanType\n",
    "\n",
    "# Define the schema for the data\n",
    "schema = StructType([\n",
    "    StructField(\"first_name\", StringType(), True),\n",
    "    StructField(\"last_name\", StringType(), True),\n",
    "    StructField(\"date_of_birth\", DateType(), True),\n",
    "    StructField(\"gender\", StringType(), True),\n",
    "    StructField(\"address\", StringType(), True),\n",
    "    StructField(\"phone_number\", StringType(), True),\n",
    "    StructField(\"email\", StringType(), True),\n",
    "    StructField(\"diagnosis\", StringType(), True),\n",
    "    StructField(\"admission_date\", DateType(), True),\n",
    "    StructField(\"discharged\", BooleanType(), True)\n",
    "])\n",
    "patient_df = spark.read.format(\"csv\").option(\"delimeter\", \",\").option(\"header\", True).schema(schema).load(\"data.csv\")"
   ]
  },
  {
   "cell_type": "code",
   "execution_count": null,
   "metadata": {},
   "outputs": [],
   "source": [
    "patient_df.repartition(1000).rdd.getNumPartitions()"
   ]
  },
  {
   "cell_type": "code",
   "execution_count": null,
   "metadata": {},
   "outputs": [],
   "source": [
    "from pyspark.sql.functions import dayofmonth, month, year\n",
    "\n",
    "patient_df = patient_df.withColumn(\"month\", month(\"admission_date\"))\n",
    "patient_df = patient_df.withColumn(\"year\", year(\"admission_date\"))\n",
    "patient_df = patient_df.withColumn(\"day\", dayofmonth(\"admission_date\"))"
   ]
  },
  {
   "cell_type": "code",
   "execution_count": null,
   "metadata": {},
   "outputs": [],
   "source": [
    "\n",
    "import random\n",
    "from pyspark.sql.functions import udf\n",
    "\n",
    "random_id_gen = udf(lambda: \"PRAC\"+str(random.randint(10000,99999)))\n",
    "patient_df = patient_df.withColumn(\"practitioner\", random_id_gen())\n",
    "patient_df.repartition(1000).writeTo(\"local.patient_iceberg\").createOrReplace()"
   ]
  },
  {
   "cell_type": "code",
   "execution_count": null,
   "metadata": {},
   "outputs": [],
   "source": [
    "spark.sql(\"ALTER TABLE local.patient_iceberg ADD PARTITION FIELD year\")\n",
    "spark.sql(\"ALTER TABLE local.patient_iceberg ADD PARTITION FIELD month\")\n",
    "spark.sql(\"ALTER TABLE local.patient_iceberg ADD PARTITION FIELD day\")\n",
    "spark.sql(\"ALTER TABLE local.patient_iceberg ADD PARTITION FIELD diagnosis\")\n",
    "spark.sql(\"ALTER TABLE local.patient_iceberg ADD PARTITION FIELD gender\")"
   ]
  },
  {
   "cell_type": "code",
   "execution_count": null,
   "metadata": {},
   "outputs": [],
   "source": [
    "from pyspark.sql.types import FloatType\n",
    "from faker import Faker\n",
    "\n",
    "fake = Faker()\n",
    "\n",
    "practitioner_schema = StructType([\n",
    "    StructField(\"practitioner_id\", StringType(), True),\n",
    "    StructField(\"name\", StringType(), True),\n",
    "    StructField(\"specialty\", StringType(), True),\n",
    "    StructField(\"experience_years\", FloatType(), True),\n",
    "    StructField(\"location\", StringType(), True),\n",
    "    StructField(\"email\", StringType(), True)\n",
    "])\n",
    "\n",
    "# Generate Fake practitioners\n",
    "num_practitioners = 10000\n",
    "\n",
    "practitioners = []\n",
    "for id,_ in enumerate(range(num_practitioners)):\n",
    "    practitioner_id = \"PRAC\" + str(num_practitioners + id)\n",
    "    name = fake.name()\n",
    "    specialty = fake.random.choice([\"Cardiologist\", \"Dermatologist\", \"Pediatrician\", \"Orthopedic Surgeon\", \"Psychiatrist\"])\n",
    "    experience_years = float(fake.random.randrange(1,20))\n",
    "    address = fake.address().replace('\\n', '').replace(',', '')\n",
    "    email = fake.email()\n",
    "\n",
    "    practitioners.append((practitioner_id, name, specialty, experience_years, address, email))\n",
    "\n",
    "# Create DataFrame from practitioners\n",
    "practitioner_df = spark.createDataFrame(practitioners, schema=practitioner_schema)\n",
    "practitioner_df.repartition(100).writeTo(\"local.practitioner_iceberg\").createOrReplace()"
   ]
  },
  {
   "cell_type": "code",
   "execution_count": 3,
   "metadata": {},
   "outputs": [
    {
     "name": "stdout",
     "output_type": "stream",
     "text": [
      "0.07547354698181152\n"
     ]
    }
   ],
   "source": [
    "import time \n",
    "\n",
    "s = time.time()\n",
    "spark.sql(\"SELECT * FROM local.patient_iceberg WHERE admission_date REGEXP '01-21'\")\n",
    "print(time.time() - s)"
   ]
  },
  {
   "cell_type": "code",
   "execution_count": 4,
   "metadata": {},
   "outputs": [
    {
     "name": "stdout",
     "output_type": "stream",
     "text": [
      "0.12068796157836914\n"
     ]
    }
   ],
   "source": [
    "s = time.time()\n",
    "spark.sql(\"SELECT * FROM local.patient_iceberg WHERE admission_date REGEXP '2020-01-21' and diagnosis='Fever' and gender='Male' and first_name='Steven'\")\n",
    "print(time.time() - s)"
   ]
  },
  {
   "cell_type": "code",
   "execution_count": 5,
   "metadata": {},
   "outputs": [
    {
     "name": "stdout",
     "output_type": "stream",
     "text": [
      "0.055736541748046875\n"
     ]
    }
   ],
   "source": [
    "s = time.time()\n",
    "spark.sql(\"SELECT * FROM local.patient_iceberg WHERE admission_date REGEXP '01-21' and diagnosis='Fever' and gender='Male'\")\n",
    "print(time.time() - s)"
   ]
  },
  {
   "cell_type": "code",
   "execution_count": 6,
   "metadata": {},
   "outputs": [
    {
     "name": "stdout",
     "output_type": "stream",
     "text": [
      "0.10874414443969727\n"
     ]
    }
   ],
   "source": [
    "s = time.time()\n",
    "spark.sql(\"SELECT diagnosis, COUNT(diagnosis) as diagnosis_count FROM local.patient_iceberg GROUP BY diagnosis\")\n",
    "print(time.time() - s)"
   ]
  },
  {
   "cell_type": "code",
   "execution_count": 7,
   "metadata": {},
   "outputs": [
    {
     "name": "stdout",
     "output_type": "stream",
     "text": [
      "0.05083870887756348\n"
     ]
    }
   ],
   "source": [
    "s = time.time()\n",
    "spark.sql(\"SELECT day, COUNT(day) as day_count FROM local.patient_iceberg GROUP BY day\")\n",
    "print(time.time() - s)"
   ]
  },
  {
   "cell_type": "code",
   "execution_count": 8,
   "metadata": {},
   "outputs": [
    {
     "name": "stdout",
     "output_type": "stream",
     "text": [
      "0.08525776863098145\n"
     ]
    }
   ],
   "source": [
    "s = time.time()\n",
    "spark.sql(\"SELECT * FROM local.patient_iceberg INNER JOIN local.practitioner_iceberg on local.practitioner_iceberg.practitioner_id=local.patient_iceberg.practitioner\")\n",
    "print(time.time() - s)"
   ]
  },
  {
   "cell_type": "code",
   "execution_count": 9,
   "metadata": {},
   "outputs": [
    {
     "name": "stdout",
     "output_type": "stream",
     "text": [
      "0.01864337921142578\n"
     ]
    }
   ],
   "source": [
    "s = time.time()\n",
    "spark.sql(\"SELECT * FROM local.practitioner_iceberg;\")\n",
    "print(time.time() - s)"
   ]
  },
  {
   "cell_type": "code",
   "execution_count": 10,
   "metadata": {},
   "outputs": [
    {
     "name": "stdout",
     "output_type": "stream",
     "text": [
      "0.030848264694213867\n"
     ]
    }
   ],
   "source": [
    "s = time.time()\n",
    "spark.sql(\"SELECT * FROM local.patient_iceberg WHERE diagnosis = 'Headache';\")\n",
    "print(time.time() - s)"
   ]
  },
  {
   "cell_type": "code",
   "execution_count": 11,
   "metadata": {},
   "outputs": [
    {
     "name": "stdout",
     "output_type": "stream",
     "text": [
      "0.030420303344726562\n"
     ]
    }
   ],
   "source": [
    "s = time.time()\n",
    "spark.sql(\"SELECT * FROM local.practitioner_iceberg WHERE experience_years > 10;\")\n",
    "print(time.time() - s)"
   ]
  },
  {
   "cell_type": "code",
   "execution_count": 12,
   "metadata": {},
   "outputs": [
    {
     "name": "stdout",
     "output_type": "stream",
     "text": [
      "0.03101968765258789\n"
     ]
    }
   ],
   "source": [
    "s = time.time()\n",
    "spark.sql(\"SELECT gender, COUNT(*) FROM local.patient_iceberg GROUP BY gender;\")\n",
    "print(time.time() - s)"
   ]
  },
  {
   "cell_type": "code",
   "execution_count": 13,
   "metadata": {},
   "outputs": [
    {
     "name": "stdout",
     "output_type": "stream",
     "text": [
      "0.03399229049682617\n"
     ]
    }
   ],
   "source": [
    "s = time.time()\n",
    "spark.sql(\"SELECT specialty, AVG(experience_years) FROM local.practitioner_iceberg GROUP BY specialty;\")\n",
    "print(time.time() - s)"
   ]
  },
  {
   "cell_type": "code",
   "execution_count": 14,
   "metadata": {},
   "outputs": [
    {
     "name": "stdout",
     "output_type": "stream",
     "text": [
      "0.03151512145996094\n"
     ]
    }
   ],
   "source": [
    "s = time.time()\n",
    "spark.sql(\"SELECT * FROM local.patient_iceberg WHERE admission_date < '2023-01-01';\")\n",
    "print(time.time() - s)"
   ]
  },
  {
   "cell_type": "code",
   "execution_count": 15,
   "metadata": {},
   "outputs": [
    {
     "name": "stdout",
     "output_type": "stream",
     "text": [
      "0.044147491455078125\n"
     ]
    }
   ],
   "source": [
    "s = time.time()\n",
    "spark.sql(\"SELECT * FROM local.practitioner_iceberg WHERE location LIKE '%City%';\")\n",
    "print(time.time() - s)"
   ]
  },
  {
   "cell_type": "code",
   "execution_count": 16,
   "metadata": {},
   "outputs": [
    {
     "name": "stdout",
     "output_type": "stream",
     "text": [
      "0.0249483585357666\n"
     ]
    }
   ],
   "source": [
    "s = time.time()\n",
    "spark.sql(\"SELECT diagnosis, COUNT(*) FROM local.patient_iceberg GROUP BY diagnosis;\")\n",
    "print(time.time() - s)"
   ]
  },
  {
   "cell_type": "code",
   "execution_count": 17,
   "metadata": {},
   "outputs": [
    {
     "name": "stdout",
     "output_type": "stream",
     "text": [
      "0.04306387901306152\n"
     ]
    }
   ],
   "source": [
    "s = time.time()\n",
    "spark.sql(\"SELECT * FROM local.patient_iceberg p JOIN local.practitioner_iceberg pr ON p.address = pr.location;\")\n",
    "print(time.time() - s)"
   ]
  },
  {
   "cell_type": "code",
   "execution_count": 18,
   "metadata": {},
   "outputs": [
    {
     "name": "stdout",
     "output_type": "stream",
     "text": [
      "0.04182863235473633\n"
     ]
    }
   ],
   "source": [
    "s = time.time()\n",
    "spark.sql(\"SELECT * FROM local.patient_iceberg WHERE MONTH(admission_date) = 5;\")\n",
    "print(time.time() - s)"
   ]
  },
  {
   "cell_type": "code",
   "execution_count": 19,
   "metadata": {},
   "outputs": [
    {
     "name": "stdout",
     "output_type": "stream",
     "text": [
      "0.020786285400390625\n"
     ]
    }
   ],
   "source": [
    "s = time.time()\n",
    "spark.sql(\"SELECT * FROM local.practitioner_iceberg WHERE experience_years BETWEEN 5 AND 15;\")\n",
    "print(time.time() - s)"
   ]
  },
  {
   "cell_type": "code",
   "execution_count": 20,
   "metadata": {},
   "outputs": [
    {
     "name": "stdout",
     "output_type": "stream",
     "text": [
      "0.03401327133178711\n"
     ]
    }
   ],
   "source": [
    "s = time.time()\n",
    "spark.sql(\"SELECT * FROM local.patient_iceberg p JOIN local.practitioner_iceberg pr ON p.diagnosis = pr.specialty;\")\n",
    "print(time.time() - s)"
   ]
  },
  {
   "cell_type": "code",
   "execution_count": 22,
   "metadata": {},
   "outputs": [
    {
     "name": "stdout",
     "output_type": "stream",
     "text": [
      "0.05071377754211426\n"
     ]
    }
   ],
   "source": [
    "s = time.time()\n",
    "spark.sql(\"SELECT YEAR(admission_date), COUNT(*) FROM local.patient_iceberg GROUP BY admission_date;\")\n",
    "print(time.time() - s)"
   ]
  },
  {
   "cell_type": "code",
   "execution_count": 23,
   "metadata": {},
   "outputs": [
    {
     "name": "stdout",
     "output_type": "stream",
     "text": [
      "0.04016900062561035\n"
     ]
    }
   ],
   "source": [
    "s = time.time()\n",
    "spark.sql(\"SELECT * FROM local.practitioner_iceberg ORDER BY experience_years DESC LIMIT 1;\")\n",
    "print(time.time() - s)"
   ]
  },
  {
   "cell_type": "code",
   "execution_count": 24,
   "metadata": {},
   "outputs": [
    {
     "name": "stdout",
     "output_type": "stream",
     "text": [
      "0.022139310836791992\n"
     ]
    }
   ],
   "source": [
    "s = time.time()\n",
    "spark.sql(\"SELECT * FROM local.patient_iceberg WHERE discharged = false;\")\n",
    "print(time.time() - s)"
   ]
  },
  {
   "cell_type": "code",
   "execution_count": 25,
   "metadata": {},
   "outputs": [
    {
     "name": "stdout",
     "output_type": "stream",
     "text": [
      "0.016591310501098633\n"
     ]
    }
   ],
   "source": [
    "s = time.time()\n",
    "spark.sql(\"SELECT * FROM local.practitioner_iceberg WHERE email LIKE '%.com';\")\n",
    "print(time.time() - s)"
   ]
  },
  {
   "cell_type": "code",
   "execution_count": 26,
   "metadata": {},
   "outputs": [
    {
     "name": "stdout",
     "output_type": "stream",
     "text": [
      "0.019825220108032227\n"
     ]
    }
   ],
   "source": [
    "s = time.time()\n",
    "spark.sql(\"SELECT * FROM local.patient_iceberg WHERE practitioner = '123';\")\n",
    "print(time.time() - s)"
   ]
  },
  {
   "cell_type": "code",
   "execution_count": 27,
   "metadata": {},
   "outputs": [
    {
     "name": "stdout",
     "output_type": "stream",
     "text": [
      "0.017183780670166016\n"
     ]
    }
   ],
   "source": [
    "s = time.time()\n",
    "spark.sql(\"SELECT * FROM local.practitioner_iceberg WHERE specialty = 'Cardiologist' AND location = 'Hospital A';\")\n",
    "print(time.time() - s)"
   ]
  },
  {
   "cell_type": "code",
   "execution_count": 28,
   "metadata": {},
   "outputs": [
    {
     "name": "stdout",
     "output_type": "stream",
     "text": [
      "0.026653528213500977\n"
     ]
    }
   ],
   "source": [
    "s = time.time()\n",
    "spark.sql(\"SELECT * FROM local.patient_iceberg p JOIN local.practitioner_iceberg pr ON p.gender = pr.name;\")\n",
    "print(time.time() - s)"
   ]
  },
  {
   "cell_type": "code",
   "execution_count": 29,
   "metadata": {},
   "outputs": [
    {
     "name": "stdout",
     "output_type": "stream",
     "text": [
      "0.060747623443603516\n"
     ]
    }
   ],
   "source": [
    "s = time.time()\n",
    "spark.sql(\"SELECT * FROM local.patient_iceberg INNER JOIN local.practitioner_iceberg ON local.patient_iceberg.practitioner = local.practitioner_iceberg.practitioner_id;\")\n",
    "print(time.time() - s)"
   ]
  },
  {
   "cell_type": "code",
   "execution_count": 30,
   "metadata": {},
   "outputs": [
    {
     "name": "stdout",
     "output_type": "stream",
     "text": [
      "0.02217698097229004\n"
     ]
    }
   ],
   "source": [
    "s = time.time()\n",
    "spark.sql(\"SELECT * FROM local.patient_iceberg RIGHT JOIN local.practitioner_iceberg ON local.patient_iceberg.practitioner = local.practitioner_iceberg.practitioner_id;\")\n",
    "print(time.time() - s)"
   ]
  },
  {
   "cell_type": "code",
   "execution_count": 31,
   "metadata": {},
   "outputs": [
    {
     "name": "stdout",
     "output_type": "stream",
     "text": [
      "0.02578878402709961\n"
     ]
    }
   ],
   "source": [
    "s = time.time()\n",
    "spark.sql(\"SELECT * FROM local.patient_iceberg FULL OUTER JOIN local.practitioner_iceberg ON local.patient_iceberg.practitioner = local.practitioner_iceberg.practitioner_id;\")\n",
    "print(time.time() - s)"
   ]
  },
  {
   "cell_type": "code",
   "execution_count": 32,
   "metadata": {},
   "outputs": [
    {
     "name": "stdout",
     "output_type": "stream",
     "text": [
      "0.020962953567504883\n"
     ]
    }
   ],
   "source": [
    "s = time.time()\n",
    "spark.sql(\"SELECT * FROM local.patient_iceberg CROSS JOIN local.practitioner_iceberg;\")\n",
    "print(time.time() - s)"
   ]
  },
  {
   "cell_type": "code",
   "execution_count": 33,
   "metadata": {},
   "outputs": [
    {
     "name": "stdout",
     "output_type": "stream",
     "text": [
      "0.050672292709350586\n"
     ]
    }
   ],
   "source": [
    "s = time.time()\n",
    "spark.sql(\"SELECT * FROM local.patient_iceberg p1 INNER JOIN local.patient_iceberg p2 ON p1.practitioner = p2.practitioner AND p1.first_name != p2.first_name;\")\n",
    "print(time.time() - s)"
   ]
  }
 ],
 "metadata": {
  "kernelspec": {
   "display_name": "Python 3",
   "language": "python",
   "name": "python3"
  },
  "language_info": {
   "codemirror_mode": {
    "name": "ipython",
    "version": 3
   },
   "file_extension": ".py",
   "mimetype": "text/x-python",
   "name": "python",
   "nbconvert_exporter": "python",
   "pygments_lexer": "ipython3",
   "version": "3.8.10"
  }
 },
 "nbformat": 4,
 "nbformat_minor": 2
}
